{
 "cells": [
  {
   "cell_type": "code",
   "execution_count": 2,
   "metadata": {},
   "outputs": [],
   "source": [
    "import asyncio\n",
    "import nest_asyncio\n",
    "nest_asyncio.apply()\n",
    "\n",
    "import pandas as pd\n",
    "from typing import List, Dict, Any, Optional, Tuple, Union\n",
    "\n",
    "from lib.utils import get_polygon_root, get_93, get_polygon_key, get_nyse_date_tups, estimate_time\n",
    "from lib.fetcher import HttpRequestFetcher, BatchRequestExecutor\n",
    "from lib.polygon import make_urls\n",
    "from lib.models import Snapshot"
   ]
  },
  {
   "cell_type": "code",
   "execution_count": 3,
   "metadata": {},
   "outputs": [],
   "source": [
    "base_path = get_polygon_root()\n",
    "api_key = get_polygon_key()\n",
    "tickers = get_93()"
   ]
  },
  {
   "cell_type": "code",
   "execution_count": 23,
   "metadata": {},
   "outputs": [],
   "source": [
    "tickers_ = tickers[:3]\n",
    "# start_date = '2018-10-11'\n",
    "start_date = '2023-09-09'\n",
    "end_date = '2023-10-09'\n",
    "tups = get_nyse_date_tups(start_date, end_date, unix=True)\n",
    "\n",
    "urls = make_urls(tickers_, tups, api_key)"
   ]
  },
  {
   "cell_type": "code",
   "execution_count": 10,
   "metadata": {},
   "outputs": [
    {
     "data": {
      "text/plain": [
       "'https://api.polygon.io/v2/aggs/ticker/FISV/range/1/minute/1694439000000/1694462400000?adjusted=true&sort=asc&limit=1000&apiKey=nBHpDZaNGDNb5EuRL3HNUGNU_Z2NnD9h'"
      ]
     },
     "execution_count": 10,
     "metadata": {},
     "output_type": "execute_result"
    }
   ],
   "source": [
    "urls[0]"
   ]
  },
  {
   "cell_type": "code",
   "execution_count": 5,
   "metadata": {},
   "outputs": [
    {
     "name": "stdout",
     "output_type": "stream",
     "text": [
      "Estimated time for 21 requests @ 0.1s per API call: 00:00:00\n"
     ]
    }
   ],
   "source": [
    "estimate_time(len(urls), rps=1000, req_time=0.1)"
   ]
  },
  {
   "cell_type": "code",
   "execution_count": 24,
   "metadata": {},
   "outputs": [],
   "source": [
    "fetcher = HttpRequestFetcher(rps=100, detailed_logs=True)\n",
    "executor = BatchRequestExecutor()"
   ]
  },
  {
   "cell_type": "code",
   "execution_count": 25,
   "metadata": {},
   "outputs": [
    {
     "name": "stdout",
     "output_type": "stream",
     "text": [
      "Request!  0.00s\n",
      "Request!  0.00s\n",
      "Request!  0.00s\n",
      "Request!  0.00s\n",
      "Request!  0.00s\n",
      "Request!  0.00s\n",
      "Request!  0.00s\n",
      "Request!  0.00s\n",
      "Request!  0.01s\n",
      "Request!  0.01s\n",
      "Request!  0.01s\n",
      "Request!  0.01s\n",
      "Request!  0.01s\n",
      "Request!  0.01s\n",
      "Request!  0.01s\n",
      "Request!  0.01s\n",
      "Request!  0.01s\n",
      "Request!  0.01s\n",
      "Request!  0.01s\n",
      "Request!  0.01s\n",
      "Request!  0.01s\n",
      "Request!  0.01s\n",
      "Request!  0.01s\n",
      "Request!  0.01s\n",
      "Request!  0.01s\n",
      "Request!  0.01s\n",
      "Request!  0.01s\n",
      "Request!  0.01s\n",
      "Request!  0.01s\n",
      "Request!  0.01s\n",
      "Request!  0.01s\n",
      "Request!  0.01s\n",
      "Request!  0.01s\n",
      "Request!  0.01s\n",
      "Request!  0.01s\n",
      "Request!  0.02s\n",
      "Request!  0.02s\n",
      "Request!  0.02s\n",
      "Request!  0.02s\n",
      "Request!  0.02s\n",
      "Request!  0.02s\n",
      "Request!  0.02s\n",
      "Request!  0.02s\n",
      "Request!  0.02s\n",
      "Request!  0.02s\n",
      "Request!  0.02s\n",
      "Request!  0.02s\n",
      "Request!  0.02s\n",
      "Request!  0.02s\n",
      "Request!  0.02s\n",
      "Request!  0.02s\n",
      "Request!  0.02s\n",
      "Request!  0.02s\n",
      "Request!  0.02s\n",
      "Request!  0.02s\n",
      "Request!  0.02s\n",
      "Request!  0.02s\n",
      "Request!  0.02s\n",
      "Request!  0.02s\n",
      "Request!  0.02s\n",
      "Request!  0.02s\n",
      "Request!  0.02s\n",
      "Request!  0.02s\n"
     ]
    }
   ],
   "source": [
    "results = executor.execute(urls, fetcher)"
   ]
  },
  {
   "cell_type": "code",
   "execution_count": 26,
   "metadata": {},
   "outputs": [],
   "source": [
    "def validate_results(results : List[Dict]):\n",
    "    validated_results = []\n",
    "    invalidated_results = []\n",
    "    for result in results:\n",
    "        try:\n",
    "            validated_result = Snapshot(**result)\n",
    "            validated_results.append(validated_result)\n",
    "        except Exception as e:\n",
    "            invalidated_result = result\n",
    "            invalidated_results.append(invalidated_result)\n",
    "\n",
    "    print(f'Validated: {len(validated_results)}')\n",
    "    print(f'Invalidated: {len(invalidated_results)}')\n",
    "    return validated_results, invalidated_results"
   ]
  },
  {
   "cell_type": "code",
   "execution_count": 27,
   "metadata": {},
   "outputs": [
    {
     "name": "stdout",
     "output_type": "stream",
     "text": [
      "Validated: 63\n",
      "Invalidated: 0\n"
     ]
    }
   ],
   "source": [
    "validated, invalidated = validate_results(results)"
   ]
  },
  {
   "cell_type": "code",
   "execution_count": 28,
   "metadata": {},
   "outputs": [],
   "source": [
    "df_val = pd.DataFrame([\n",
    "    {\n",
    "        **result.model_dump(),\n",
    "        'ticker': snapshot.ticker\n",
    "    }\n",
    "    for snapshot in validated for result in snapshot.results])"
   ]
  },
  {
   "cell_type": "code",
   "execution_count": 30,
   "metadata": {},
   "outputs": [],
   "source": [
    "df = df_val.copy()"
   ]
  },
  {
   "cell_type": "code",
   "execution_count": 37,
   "metadata": {},
   "outputs": [],
   "source": [
    "df_ticker_tups = [(df.reset_index(drop=True), ticker) for ticker, df in df.groupby('ticker')] # groupby ticker"
   ]
  },
  {
   "cell_type": "code",
   "execution_count": 40,
   "metadata": {},
   "outputs": [
    {
     "name": "stdout",
     "output_type": "stream",
     "text": [
      "Saving AAPL... 1 / 3\n",
      "Saving ACN... 2 / 3\n",
      "Saving ADBE... 3 / 3\n"
     ]
    }
   ],
   "source": [
    "for idx, (df, ticker) in enumerate(df_ticker_tups):\n",
    "    print(f\"Saving {ticker}... {idx+ 1} / {len(df_ticker_tups)}\")"
   ]
  },
  {
   "cell_type": "code",
   "execution_count": 36,
   "metadata": {},
   "outputs": [
    {
     "data": {
      "text/plain": [
       "(             c         h        l      n        o              t        v  \\\n",
       " 0     180.0677  180.3000  179.940  15819  180.070  1694439000000  1180839   \n",
       " 1     179.8400  180.2000  179.840   4444  180.090  1694439060000   441838   \n",
       " 2     180.0790  180.0900  179.780   3307  179.870  1694439120000   273724   \n",
       " 3     180.0979  180.1000  179.880   3030  180.080  1694439180000   237649   \n",
       " 4     179.8100  180.1100  179.780   3653  180.099  1694439240000   300991   \n",
       " ...        ...       ...      ...    ...      ...            ...      ...   \n",
       " 8206  178.9700  179.0200  178.925   2111  179.010  1696881360000   208246   \n",
       " 8207  178.9900  179.0200  178.950   2221  178.970  1696881420000   183928   \n",
       " 8208  178.9500  179.0012  178.940   3247  178.980  1696881480000   347245   \n",
       " 8209  179.0000  179.0200  178.920   5098  178.945  1696881540000   564537   \n",
       " 8210  178.9000  178.9900  178.850    147  178.990  1696881600000   900969   \n",
       " \n",
       "             vw ticker  \n",
       " 0     180.0808   AAPL  \n",
       " 1     179.9957   AAPL  \n",
       " 2     179.9547   AAPL  \n",
       " 3     180.0064   AAPL  \n",
       " 4     179.9601   AAPL  \n",
       " ...        ...    ...  \n",
       " 8206  178.9805   AAPL  \n",
       " 8207  178.9767   AAPL  \n",
       " 8208  178.9734   AAPL  \n",
       " 8209  178.9644   AAPL  \n",
       " 8210  178.9896   AAPL  \n",
       " \n",
       " [8211 rows x 9 columns],\n",
       " 'AAPL')"
      ]
     },
     "execution_count": 36,
     "metadata": {},
     "output_type": "execute_result"
    }
   ],
   "source": [
    "tups[0]"
   ]
  },
  {
   "cell_type": "code",
   "execution_count": null,
   "metadata": {},
   "outputs": [],
   "source": [
    "df_ticker_tups = [(df.reset_index(drop=True), ticker) for df, ticker in concat_df.groupby(by='ticker')]"
   ]
  },
  {
   "cell_type": "code",
   "execution_count": 22,
   "metadata": {},
   "outputs": [
    {
     "data": {
      "text/plain": [
       "[{'ticker': 'FISV',\n",
       "  'queryCount': 0,\n",
       "  'resultsCount': 0,\n",
       "  'adjusted': True,\n",
       "  'status': 'OK',\n",
       "  'request_id': '542297af948347e8e05131a24755767b'},\n",
       " {'ticker': 'FISV',\n",
       "  'queryCount': 0,\n",
       "  'resultsCount': 0,\n",
       "  'adjusted': True,\n",
       "  'status': 'OK',\n",
       "  'request_id': 'bfc3bc9df046f2ffbb52f9ddd68ade9f'},\n",
       " {'ticker': 'FISV',\n",
       "  'queryCount': 0,\n",
       "  'resultsCount': 0,\n",
       "  'adjusted': True,\n",
       "  'status': 'OK',\n",
       "  'request_id': '5ac44fcf586272984f4cb5c58ff7ad9f'},\n",
       " {'ticker': 'FISV',\n",
       "  'queryCount': 0,\n",
       "  'resultsCount': 0,\n",
       "  'adjusted': True,\n",
       "  'status': 'OK',\n",
       "  'request_id': 'ac59c4ca2ae6e0febd24654e76dbc341'},\n",
       " {'ticker': 'FISV',\n",
       "  'queryCount': 0,\n",
       "  'resultsCount': 0,\n",
       "  'adjusted': True,\n",
       "  'status': 'OK',\n",
       "  'request_id': 'c6f3e80e8f4754568d7acc1d1259c3c9'},\n",
       " {'ticker': 'FISV',\n",
       "  'queryCount': 0,\n",
       "  'resultsCount': 0,\n",
       "  'adjusted': True,\n",
       "  'status': 'OK',\n",
       "  'request_id': '50e4a63ba89a5ccdc603e09e916545d3'},\n",
       " {'ticker': 'FISV',\n",
       "  'queryCount': 0,\n",
       "  'resultsCount': 0,\n",
       "  'adjusted': True,\n",
       "  'status': 'OK',\n",
       "  'request_id': 'aa024dd03dca9ec6a52462e4fb32f3d4'},\n",
       " {'ticker': 'FISV',\n",
       "  'queryCount': 0,\n",
       "  'resultsCount': 0,\n",
       "  'adjusted': True,\n",
       "  'status': 'OK',\n",
       "  'request_id': '97712ee7eae56e8d98532951fcdae49c'},\n",
       " {'ticker': 'FISV',\n",
       "  'queryCount': 0,\n",
       "  'resultsCount': 0,\n",
       "  'adjusted': True,\n",
       "  'status': 'OK',\n",
       "  'request_id': '21f728f0987cb17a2deb554c1c43ca8e'},\n",
       " {'ticker': 'FISV',\n",
       "  'queryCount': 0,\n",
       "  'resultsCount': 0,\n",
       "  'adjusted': True,\n",
       "  'status': 'OK',\n",
       "  'request_id': '05a25b2d77f9bd834ef52e572afa774f'},\n",
       " {'ticker': 'FISV',\n",
       "  'queryCount': 0,\n",
       "  'resultsCount': 0,\n",
       "  'adjusted': True,\n",
       "  'status': 'OK',\n",
       "  'request_id': 'ab6617eb8fe44dc22625b1ecef198de5'},\n",
       " {'ticker': 'FISV',\n",
       "  'queryCount': 0,\n",
       "  'resultsCount': 0,\n",
       "  'adjusted': True,\n",
       "  'status': 'OK',\n",
       "  'request_id': '2dadbd9b7fd2df78d3083811d5ba45c5'},\n",
       " {'ticker': 'FISV',\n",
       "  'queryCount': 0,\n",
       "  'resultsCount': 0,\n",
       "  'adjusted': True,\n",
       "  'status': 'OK',\n",
       "  'request_id': 'e1fe100f4fcf785e413ed7569e25231f'},\n",
       " {'ticker': 'FISV',\n",
       "  'queryCount': 0,\n",
       "  'resultsCount': 0,\n",
       "  'adjusted': True,\n",
       "  'status': 'OK',\n",
       "  'request_id': 'c8ae6e5f790c4b73b6556782c6469754'},\n",
       " {'ticker': 'FISV',\n",
       "  'queryCount': 0,\n",
       "  'resultsCount': 0,\n",
       "  'adjusted': True,\n",
       "  'status': 'OK',\n",
       "  'request_id': '0de45ab15840fe321d8746ff0dc85a43'},\n",
       " {'ticker': 'FISV',\n",
       "  'queryCount': 0,\n",
       "  'resultsCount': 0,\n",
       "  'adjusted': True,\n",
       "  'status': 'OK',\n",
       "  'request_id': '70ac286a454be26d9af70b6629a26335'},\n",
       " {'ticker': 'FISV',\n",
       "  'queryCount': 0,\n",
       "  'resultsCount': 0,\n",
       "  'adjusted': True,\n",
       "  'status': 'OK',\n",
       "  'request_id': 'a883bd56306c234e989efda87c3c58d2'},\n",
       " {'ticker': 'FISV',\n",
       "  'queryCount': 0,\n",
       "  'resultsCount': 0,\n",
       "  'adjusted': True,\n",
       "  'status': 'OK',\n",
       "  'request_id': '617bc71b75f9c40fdae6a080fa28a0fa'},\n",
       " {'ticker': 'FISV',\n",
       "  'queryCount': 0,\n",
       "  'resultsCount': 0,\n",
       "  'adjusted': True,\n",
       "  'status': 'OK',\n",
       "  'request_id': '4e2e62552b7c3eeb744e33f044c52aa6'},\n",
       " {'ticker': 'FISV',\n",
       "  'queryCount': 0,\n",
       "  'resultsCount': 0,\n",
       "  'adjusted': True,\n",
       "  'status': 'OK',\n",
       "  'request_id': '2df2323ac7420c960071b9dc3db81f86'},\n",
       " {'ticker': 'FISV',\n",
       "  'queryCount': 0,\n",
       "  'resultsCount': 0,\n",
       "  'adjusted': True,\n",
       "  'status': 'OK',\n",
       "  'request_id': '29e4780370604b0161a67b1a47be1373'}]"
      ]
     },
     "execution_count": 22,
     "metadata": {},
     "output_type": "execute_result"
    }
   ],
   "source": [
    "invalidated"
   ]
  }
 ],
 "metadata": {
  "kernelspec": {
   "display_name": "venv",
   "language": "python",
   "name": "python3"
  },
  "language_info": {
   "codemirror_mode": {
    "name": "ipython",
    "version": 3
   },
   "file_extension": ".py",
   "mimetype": "text/x-python",
   "name": "python",
   "nbconvert_exporter": "python",
   "pygments_lexer": "ipython3",
   "version": "3.10.0"
  }
 },
 "nbformat": 4,
 "nbformat_minor": 2
}
