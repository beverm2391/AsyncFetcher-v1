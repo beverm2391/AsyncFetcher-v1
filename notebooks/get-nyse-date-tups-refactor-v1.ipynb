{
 "cells": [
  {
   "cell_type": "code",
   "execution_count": 2,
   "metadata": {},
   "outputs": [],
   "source": [
    "import pandas as pd\n",
    "from typing import List, Tuple\n",
    "from lib.utils import get_nyse_calendar"
   ]
  },
  {
   "cell_type": "code",
   "execution_count": 14,
   "metadata": {},
   "outputs": [],
   "source": [
    "def get_nyse_date_tups(start: str, end: str = 'today', unix=False) -> List[Tuple[str, str]]:\n",
    "    \"\"\"\n",
    "    Get a list of tuples of (open, close) datetimes for NYSE trading days between start and end dates.\n",
    "    \"\"\"\n",
    "    if end == 'today': end = pd.Timestamp.now().strftime('%Y-%m-%d') # get today! \n",
    "    assert pd.Timestamp(start) < pd.Timestamp(end), \"start date must be before end date\"\n",
    "\n",
    "    nyse = get_nyse_calendar(start, end) # get nyse calendar\n",
    "\n",
    "    decode_str = \"%Y-%m-%d\"\n",
    "    to_str = lambda x: pd.to_datetime(x, utc=True).tz_convert('America/New_York').strftime(decode_str) # convert to nyse tz, get string\n",
    "    to_unix = lambda x: int(pd.to_datetime(x, utc=True).tz_convert('America/New_York').timestamp() * 1000) # convert to nyse tz, get unix timestamp\n",
    "\n",
    "    if unix:\n",
    "        tups = [(to_unix(a), to_unix(b)) for a, b in zip(nyse['market_open'], nyse['market_close'])] # make unix tups from open/close\n",
    "    else:\n",
    "        tups = [(to_str(a), to_str(b)) for a, b in zip(nyse['market_open'], nyse['market_close'])] # make string tups from open/close\n",
    "\n",
    "    assert tups is not None and len(tups) > 0, \"tups must be non-empty. you probably provided dates that are not NYSE trading days.\"\n",
    "    return tups"
   ]
  },
  {
   "cell_type": "code",
   "execution_count": 16,
   "metadata": {},
   "outputs": [
    {
     "data": {
      "text/plain": [
       "[(1577975400000, 1577998800000),\n",
       " (1578061800000, 1578085200000),\n",
       " (1578321000000, 1578344400000),\n",
       " (1578407400000, 1578430800000),\n",
       " (1578493800000, 1578517200000),\n",
       " (1578580200000, 1578603600000),\n",
       " (1578666600000, 1578690000000)]"
      ]
     },
     "execution_count": 16,
     "metadata": {},
     "output_type": "execute_result"
    }
   ],
   "source": [
    "get_nyse_date_tups('2020-01-01', '2020-01-10', unix=True)"
   ]
  },
  {
   "cell_type": "code",
   "execution_count": 8,
   "metadata": {},
   "outputs": [],
   "source": [
    "nyse = get_nyse_calendar('2020-01-01', '2020-01-31')\n",
    "decode_str = \"%Y-%m-%d\"\n",
    "to_str = lambda x: pd.to_datetime(x, utc=True).tz_convert('America/New_York').strftime(decode_str) # convert to nyse tz, get string\n",
    "to_unix = lambda x: int(pd.to_datetime(x, utc=True).tz_convert('America/New_York').timestamp() * 1000) # convert to nyse tz, get unix timestamp\n",
    "\n",
    "tups1 = [(func1(a), func1(b)) for a, b in zip(nyse['market_open'], nyse['market_close'])] # get tups of open/close, formatted with func\n",
    "tups2 = [(func2(a), func2(b)) for a, b in zip(nyse['market_open'], nyse['market_close'])] # get tups of open/close, formatted with func"
   ]
  },
  {
   "cell_type": "code",
   "execution_count": 13,
   "metadata": {},
   "outputs": [
    {
     "name": "stdout",
     "output_type": "stream",
     "text": [
      "2020-01-02 14:30:00\n",
      "2020-01-02\n"
     ]
    }
   ],
   "source": [
    "# convert unix timestamp to datetime\n",
    "timestamp = tups2[0][0]\n",
    "datetime = pd.to_datetime(timestamp, unit='ms')\n",
    "print(datetime)\n",
    "print(tups1[0][0])"
   ]
  }
 ],
 "metadata": {
  "kernelspec": {
   "display_name": "venv",
   "language": "python",
   "name": "python3"
  },
  "language_info": {
   "codemirror_mode": {
    "name": "ipython",
    "version": 3
   },
   "file_extension": ".py",
   "mimetype": "text/x-python",
   "name": "python",
   "nbconvert_exporter": "python",
   "pygments_lexer": "ipython3",
   "version": "3.10.0"
  }
 },
 "nbformat": 4,
 "nbformat_minor": 2
}
