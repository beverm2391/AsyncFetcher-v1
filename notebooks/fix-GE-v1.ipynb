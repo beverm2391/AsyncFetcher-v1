{
 "cells": [
  {
   "cell_type": "code",
   "execution_count": 1,
   "metadata": {},
   "outputs": [],
   "source": [
    "import asyncio\n",
    "import nest_asyncio\n",
    "nest_asyncio.apply()\n",
    "\n",
    "import pandas as pd\n",
    "from typing import List, Dict, Any, Optional, Tuple, Union\n",
    "\n",
    "from lib.utils import get_polygon_root, get_93, get_polygon_key, get_nyse_date_tups, estimate_time\n",
    "from lib.fetcher import HttpRequestFetcher, BatchRequestExecutor\n",
    "from lib.polygon import make_urls\n",
    "from lib.models import Snapshot"
   ]
  },
  {
   "cell_type": "code",
   "execution_count": null,
   "metadata": {},
   "outputs": [],
   "source": [
    "tickers_ = tickers[:3]\n",
    "# start_date = '2018-10-11'\n",
    "start_date = '2023-09-09'\n",
    "end_date = '2023-10-09'\n",
    "tups = get_nyse_date_tups(start_date, end_date, unix=True)\n",
    "\n",
    "urls = make_urls(tickers_, tups, api_key)"
   ]
  }
 ],
 "metadata": {
  "kernelspec": {
   "display_name": "venv",
   "language": "python",
   "name": "python3"
  },
  "language_info": {
   "codemirror_mode": {
    "name": "ipython",
    "version": 3
   },
   "file_extension": ".py",
   "mimetype": "text/x-python",
   "name": "python",
   "nbconvert_exporter": "python",
   "pygments_lexer": "ipython3",
   "version": "3.10.0"
  }
 },
 "nbformat": 4,
 "nbformat_minor": 2
}
