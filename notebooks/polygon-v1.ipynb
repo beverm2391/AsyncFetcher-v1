{
 "cells": [
  {
   "cell_type": "code",
   "execution_count": 22,
   "metadata": {},
   "outputs": [],
   "source": [
    "import asyncio\n",
    "import nest_asyncio\n",
    "nest_asyncio.apply()\n",
    "\n",
    "import pandas as pd\n",
    "from typing import List, Dict, Any, Optional, Tuple, Union\n",
    "\n",
    "from lib.utils import get_polygon_root, get_nyse_calendar, get_93, get_polygon_key\n",
    "from lib.fetcher import HttpRequestFetcher, BatchRequestExecutor"
   ]
  },
  {
   "cell_type": "code",
   "execution_count": 2,
   "metadata": {},
   "outputs": [],
   "source": [
    "base_path = get_polygon_root()\n",
    "api_key = get_polygon_key()\n",
    "tickers = get_93()"
   ]
  },
  {
   "cell_type": "markdown",
   "metadata": {},
   "source": [
    "## Get urls"
   ]
  },
  {
   "cell_type": "code",
   "execution_count": 39,
   "metadata": {},
   "outputs": [],
   "source": [
    "def get_nyse_date_tups(start: str, end: str = 'today', time_detail=True):\n",
    "    if end == 'today': end = pd.Timestamp.now().strftime('%Y-%m-%d') # get today! \n",
    "    assert pd.Timestamp(start) < pd.Timestamp(end), \"start date must be before end date\"\n",
    "\n",
    "    nyse = get_nyse_calendar(start, end) # get nyse calendar\n",
    "\n",
    "    decode_str = \"%Y-%m-%d %H:%M:%S\" if time_detail else \"%Y-%m-%d\" # decode str\n",
    "    func = lambda x: pd.to_datetime(x, utc=True).tz_convert('America/New_York').strftime(decode_str) # convert to nyse tz\n",
    "    tups = [(func(a), func(b)) for a, b in zip(nyse['market_open'], nyse['market_close'])] # get tups of open/close, formatted with func\n",
    "    return tups\n",
    "\n",
    "def make_urls(tickers: Union[List[str], str], tups: [Tuple[str, str]]):\n",
    "\n",
    "    def _make_url(ticker, start, end, limit=1000, adjusted=True, api_key=get_polygon_key()):\n",
    "        base_url = \"https://api.polygon.io/v2/aggs/ticker/\"\n",
    "        adj = 'true' if adjusted else 'false'\n",
    "        url = f\"{base_url}{ticker}/range/1/minute/{start}/{end}?adjusted={adj}&sort=asc&limit={limit}&apiKey={api_key}\"\n",
    "        return url\n",
    "    \n",
    "    def _validate(tickers: Union[List[str], str]) -> List[str]:\n",
    "        if isinstance(tickers, str): tickers = [tickers] # make sure tickers is a list\n",
    "        assert len(tickers) > 0, \"list of tickers must be non-empty\" # make sure tickers is non-empty\n",
    "        return tickers\n",
    "    \n",
    "    tickers = _validate(tickers)\n",
    "    urls = [[_make_url(ticker, date1, date2) for date1, date2 in tups] for ticker in tickers]\n",
    "    \n",
    "    if len(tickers) == 1: urls = urls[0] # if only one ticker, flatten list to avoid nested list [[data]] -> [data]\n",
    "\n",
    "    return urls\n",
    "\n",
    "def estimate_time(urls, batch_size=1000, req_time=1):\n",
    "    n_urls = sum([len(url) for url in urls])\n",
    "    total_time_hrs = n_urls / batch_size * req_time/60\n",
    "    print(f\"Estimated time for {n_urls} requests @ {req_time}s per API call: {total_time_hrs:0.2f} hrs\")"
   ]
  },
  {
   "cell_type": "code",
   "execution_count": 44,
   "metadata": {},
   "outputs": [
    {
     "name": "stdout",
     "output_type": "stream",
     "text": [
      "Getting data for ['AAPL', 'ACN'] from 2023-09-09 to 2023-10-09\n",
      "21\n",
      "Estimated time for 42 requests @ 1s per API call: 0.00 hrs\n"
     ]
    }
   ],
   "source": [
    "end = pd.Timestamp.now().strftime(\"%Y-%m-%d\")\n",
    "start = (pd.Timestamp.now() - pd.DateOffset(months=1)).strftime(\"%Y-%m-%d\")\n",
    "tickers_ = tickers[:2]\n",
    "print(f\"Getting data for {tickers_} from {start} to {end}\")\n",
    "tups = get_nyse_date_tups(start, end, time_detail=False)\n",
    "print(len(tups))\n",
    "urls = make_urls(tickers_, tups)\n",
    "estimate_time(urls)"
   ]
  },
  {
   "cell_type": "code",
   "execution_count": 45,
   "metadata": {},
   "outputs": [
    {
     "data": {
      "text/plain": [
       "[['https://api.polygon.io/v2/aggs/ticker/AAPL/range/1/minute/2023-09-11/2023-09-11?adjusted=true&sort=asc&limit=1000&apiKey=None',\n",
       "  'https://api.polygon.io/v2/aggs/ticker/AAPL/range/1/minute/2023-09-12/2023-09-12?adjusted=true&sort=asc&limit=1000&apiKey=None',\n",
       "  'https://api.polygon.io/v2/aggs/ticker/AAPL/range/1/minute/2023-09-13/2023-09-13?adjusted=true&sort=asc&limit=1000&apiKey=None',\n",
       "  'https://api.polygon.io/v2/aggs/ticker/AAPL/range/1/minute/2023-09-14/2023-09-14?adjusted=true&sort=asc&limit=1000&apiKey=None',\n",
       "  'https://api.polygon.io/v2/aggs/ticker/AAPL/range/1/minute/2023-09-15/2023-09-15?adjusted=true&sort=asc&limit=1000&apiKey=None',\n",
       "  'https://api.polygon.io/v2/aggs/ticker/AAPL/range/1/minute/2023-09-18/2023-09-18?adjusted=true&sort=asc&limit=1000&apiKey=None',\n",
       "  'https://api.polygon.io/v2/aggs/ticker/AAPL/range/1/minute/2023-09-19/2023-09-19?adjusted=true&sort=asc&limit=1000&apiKey=None',\n",
       "  'https://api.polygon.io/v2/aggs/ticker/AAPL/range/1/minute/2023-09-20/2023-09-20?adjusted=true&sort=asc&limit=1000&apiKey=None',\n",
       "  'https://api.polygon.io/v2/aggs/ticker/AAPL/range/1/minute/2023-09-21/2023-09-21?adjusted=true&sort=asc&limit=1000&apiKey=None',\n",
       "  'https://api.polygon.io/v2/aggs/ticker/AAPL/range/1/minute/2023-09-22/2023-09-22?adjusted=true&sort=asc&limit=1000&apiKey=None',\n",
       "  'https://api.polygon.io/v2/aggs/ticker/AAPL/range/1/minute/2023-09-25/2023-09-25?adjusted=true&sort=asc&limit=1000&apiKey=None',\n",
       "  'https://api.polygon.io/v2/aggs/ticker/AAPL/range/1/minute/2023-09-26/2023-09-26?adjusted=true&sort=asc&limit=1000&apiKey=None',\n",
       "  'https://api.polygon.io/v2/aggs/ticker/AAPL/range/1/minute/2023-09-27/2023-09-27?adjusted=true&sort=asc&limit=1000&apiKey=None',\n",
       "  'https://api.polygon.io/v2/aggs/ticker/AAPL/range/1/minute/2023-09-28/2023-09-28?adjusted=true&sort=asc&limit=1000&apiKey=None',\n",
       "  'https://api.polygon.io/v2/aggs/ticker/AAPL/range/1/minute/2023-09-29/2023-09-29?adjusted=true&sort=asc&limit=1000&apiKey=None',\n",
       "  'https://api.polygon.io/v2/aggs/ticker/AAPL/range/1/minute/2023-10-02/2023-10-02?adjusted=true&sort=asc&limit=1000&apiKey=None',\n",
       "  'https://api.polygon.io/v2/aggs/ticker/AAPL/range/1/minute/2023-10-03/2023-10-03?adjusted=true&sort=asc&limit=1000&apiKey=None',\n",
       "  'https://api.polygon.io/v2/aggs/ticker/AAPL/range/1/minute/2023-10-04/2023-10-04?adjusted=true&sort=asc&limit=1000&apiKey=None',\n",
       "  'https://api.polygon.io/v2/aggs/ticker/AAPL/range/1/minute/2023-10-05/2023-10-05?adjusted=true&sort=asc&limit=1000&apiKey=None',\n",
       "  'https://api.polygon.io/v2/aggs/ticker/AAPL/range/1/minute/2023-10-06/2023-10-06?adjusted=true&sort=asc&limit=1000&apiKey=None',\n",
       "  'https://api.polygon.io/v2/aggs/ticker/AAPL/range/1/minute/2023-10-09/2023-10-09?adjusted=true&sort=asc&limit=1000&apiKey=None'],\n",
       " ['https://api.polygon.io/v2/aggs/ticker/ACN/range/1/minute/2023-09-11/2023-09-11?adjusted=true&sort=asc&limit=1000&apiKey=None',\n",
       "  'https://api.polygon.io/v2/aggs/ticker/ACN/range/1/minute/2023-09-12/2023-09-12?adjusted=true&sort=asc&limit=1000&apiKey=None',\n",
       "  'https://api.polygon.io/v2/aggs/ticker/ACN/range/1/minute/2023-09-13/2023-09-13?adjusted=true&sort=asc&limit=1000&apiKey=None',\n",
       "  'https://api.polygon.io/v2/aggs/ticker/ACN/range/1/minute/2023-09-14/2023-09-14?adjusted=true&sort=asc&limit=1000&apiKey=None',\n",
       "  'https://api.polygon.io/v2/aggs/ticker/ACN/range/1/minute/2023-09-15/2023-09-15?adjusted=true&sort=asc&limit=1000&apiKey=None',\n",
       "  'https://api.polygon.io/v2/aggs/ticker/ACN/range/1/minute/2023-09-18/2023-09-18?adjusted=true&sort=asc&limit=1000&apiKey=None',\n",
       "  'https://api.polygon.io/v2/aggs/ticker/ACN/range/1/minute/2023-09-19/2023-09-19?adjusted=true&sort=asc&limit=1000&apiKey=None',\n",
       "  'https://api.polygon.io/v2/aggs/ticker/ACN/range/1/minute/2023-09-20/2023-09-20?adjusted=true&sort=asc&limit=1000&apiKey=None',\n",
       "  'https://api.polygon.io/v2/aggs/ticker/ACN/range/1/minute/2023-09-21/2023-09-21?adjusted=true&sort=asc&limit=1000&apiKey=None',\n",
       "  'https://api.polygon.io/v2/aggs/ticker/ACN/range/1/minute/2023-09-22/2023-09-22?adjusted=true&sort=asc&limit=1000&apiKey=None',\n",
       "  'https://api.polygon.io/v2/aggs/ticker/ACN/range/1/minute/2023-09-25/2023-09-25?adjusted=true&sort=asc&limit=1000&apiKey=None',\n",
       "  'https://api.polygon.io/v2/aggs/ticker/ACN/range/1/minute/2023-09-26/2023-09-26?adjusted=true&sort=asc&limit=1000&apiKey=None',\n",
       "  'https://api.polygon.io/v2/aggs/ticker/ACN/range/1/minute/2023-09-27/2023-09-27?adjusted=true&sort=asc&limit=1000&apiKey=None',\n",
       "  'https://api.polygon.io/v2/aggs/ticker/ACN/range/1/minute/2023-09-28/2023-09-28?adjusted=true&sort=asc&limit=1000&apiKey=None',\n",
       "  'https://api.polygon.io/v2/aggs/ticker/ACN/range/1/minute/2023-09-29/2023-09-29?adjusted=true&sort=asc&limit=1000&apiKey=None',\n",
       "  'https://api.polygon.io/v2/aggs/ticker/ACN/range/1/minute/2023-10-02/2023-10-02?adjusted=true&sort=asc&limit=1000&apiKey=None',\n",
       "  'https://api.polygon.io/v2/aggs/ticker/ACN/range/1/minute/2023-10-03/2023-10-03?adjusted=true&sort=asc&limit=1000&apiKey=None',\n",
       "  'https://api.polygon.io/v2/aggs/ticker/ACN/range/1/minute/2023-10-04/2023-10-04?adjusted=true&sort=asc&limit=1000&apiKey=None',\n",
       "  'https://api.polygon.io/v2/aggs/ticker/ACN/range/1/minute/2023-10-05/2023-10-05?adjusted=true&sort=asc&limit=1000&apiKey=None',\n",
       "  'https://api.polygon.io/v2/aggs/ticker/ACN/range/1/minute/2023-10-06/2023-10-06?adjusted=true&sort=asc&limit=1000&apiKey=None',\n",
       "  'https://api.polygon.io/v2/aggs/ticker/ACN/range/1/minute/2023-10-09/2023-10-09?adjusted=true&sort=asc&limit=1000&apiKey=None']]"
      ]
     },
     "execution_count": 45,
     "metadata": {},
     "output_type": "execute_result"
    }
   ],
   "source": [
    "urls"
   ]
  },
  {
   "cell_type": "code",
   "execution_count": 5,
   "metadata": {},
   "outputs": [
    {
     "name": "stdout",
     "output_type": "stream",
     "text": [
      "len(urls): 4\n"
     ]
    }
   ],
   "source": [
    "print(f\"len(urls): {len(urls)}\")"
   ]
  },
  {
   "cell_type": "code",
   "execution_count": 100,
   "metadata": {},
   "outputs": [
    {
     "name": "stdout",
     "output_type": "stream",
     "text": [
      "Getting data for 4 tickers\n"
     ]
    }
   ],
   "source": [
    "tickers_ = tickers[0]\n",
    "print(f\"Getting data for {len(tickers_)} tickers\")"
   ]
  },
  {
   "cell_type": "code",
   "execution_count": 72,
   "metadata": {},
   "outputs": [],
   "source": [
    "fetcher = HttpRequestFetcher(rps=2)\n",
    "executor = BatchRequestExecutor()"
   ]
  },
  {
   "cell_type": "code",
   "execution_count": 76,
   "metadata": {},
   "outputs": [
    {
     "ename": "AttributeError",
     "evalue": "__aenter__",
     "output_type": "error",
     "traceback": [
      "\u001b[0;31m---------------------------------------------------------------------------\u001b[0m",
      "\u001b[0;31mAttributeError\u001b[0m                            Traceback (most recent call last)",
      "\u001b[1;32m/Users/beneverman/Documents/Coding/AsyncFetcher-v1/notebooks/polygon-v1.ipynb Cell 7\u001b[0m line \u001b[0;36m1\n\u001b[0;32m----> <a href='vscode-notebook-cell:/Users/beneverman/Documents/Coding/AsyncFetcher-v1/notebooks/polygon-v1.ipynb#X30sZmlsZQ%3D%3D?line=0'>1</a>\u001b[0m results \u001b[39m=\u001b[39m executor\u001b[39m.\u001b[39;49mexecute(fetcher, urls)\n",
      "File \u001b[0;32m~/Documents/Coding/AsyncFetcher-v1/lib/fetcher.py:46\u001b[0m, in \u001b[0;36mBatchRequestExecutor.execute\u001b[0;34m(self, urls, fetcher, loop)\u001b[0m\n\u001b[1;32m     44\u001b[0m \u001b[39m\u001b[39m\u001b[39m\"\"\"Use BatchRequestExecutor().execute() to execute\"\"\"\u001b[39;00m\n\u001b[1;32m     45\u001b[0m loop \u001b[39m=\u001b[39m loop \u001b[39mor\u001b[39;00m asyncio\u001b[39m.\u001b[39mget_event_loop() \u001b[39m# get event loop if not provided, else use provided\u001b[39;00m\n\u001b[0;32m---> 46\u001b[0m \u001b[39mreturn\u001b[39;00m loop\u001b[39m.\u001b[39;49mrun_until_complete(\u001b[39mself\u001b[39;49m\u001b[39m.\u001b[39;49m_execute(urls, fetcher))\n",
      "File \u001b[0;32m~/Documents/Coding/AsyncFetcher-v1/venv/lib/python3.10/site-packages/nest_asyncio.py:99\u001b[0m, in \u001b[0;36m_patch_loop.<locals>.run_until_complete\u001b[0;34m(self, future)\u001b[0m\n\u001b[1;32m     96\u001b[0m \u001b[39mif\u001b[39;00m \u001b[39mnot\u001b[39;00m f\u001b[39m.\u001b[39mdone():\n\u001b[1;32m     97\u001b[0m     \u001b[39mraise\u001b[39;00m \u001b[39mRuntimeError\u001b[39;00m(\n\u001b[1;32m     98\u001b[0m         \u001b[39m'\u001b[39m\u001b[39mEvent loop stopped before Future completed.\u001b[39m\u001b[39m'\u001b[39m)\n\u001b[0;32m---> 99\u001b[0m \u001b[39mreturn\u001b[39;00m f\u001b[39m.\u001b[39;49mresult()\n",
      "File \u001b[0;32m/Library/Frameworks/Python.framework/Versions/3.10/lib/python3.10/asyncio/futures.py:201\u001b[0m, in \u001b[0;36mFuture.result\u001b[0;34m(self)\u001b[0m\n\u001b[1;32m    199\u001b[0m \u001b[39mself\u001b[39m\u001b[39m.\u001b[39m__log_traceback \u001b[39m=\u001b[39m \u001b[39mFalse\u001b[39;00m\n\u001b[1;32m    200\u001b[0m \u001b[39mif\u001b[39;00m \u001b[39mself\u001b[39m\u001b[39m.\u001b[39m_exception \u001b[39mis\u001b[39;00m \u001b[39mnot\u001b[39;00m \u001b[39mNone\u001b[39;00m:\n\u001b[0;32m--> 201\u001b[0m     \u001b[39mraise\u001b[39;00m \u001b[39mself\u001b[39m\u001b[39m.\u001b[39m_exception\n\u001b[1;32m    202\u001b[0m \u001b[39mreturn\u001b[39;00m \u001b[39mself\u001b[39m\u001b[39m.\u001b[39m_result\n",
      "File \u001b[0;32m/Library/Frameworks/Python.framework/Versions/3.10/lib/python3.10/asyncio/tasks.py:232\u001b[0m, in \u001b[0;36mTask.__step\u001b[0;34m(***failed resolving arguments***)\u001b[0m\n\u001b[1;32m    228\u001b[0m \u001b[39mtry\u001b[39;00m:\n\u001b[1;32m    229\u001b[0m     \u001b[39mif\u001b[39;00m exc \u001b[39mis\u001b[39;00m \u001b[39mNone\u001b[39;00m:\n\u001b[1;32m    230\u001b[0m         \u001b[39m# We use the `send` method directly, because coroutines\u001b[39;00m\n\u001b[1;32m    231\u001b[0m         \u001b[39m# don't have `__iter__` and `__next__` methods.\u001b[39;00m\n\u001b[0;32m--> 232\u001b[0m         result \u001b[39m=\u001b[39m coro\u001b[39m.\u001b[39;49msend(\u001b[39mNone\u001b[39;49;00m)\n\u001b[1;32m    233\u001b[0m     \u001b[39melse\u001b[39;00m:\n\u001b[1;32m    234\u001b[0m         result \u001b[39m=\u001b[39m coro\u001b[39m.\u001b[39mthrow(exc)\n",
      "File \u001b[0;32m~/Documents/Coding/AsyncFetcher-v1/lib/fetcher.py:39\u001b[0m, in \u001b[0;36mBatchRequestExecutor._execute\u001b[0;34m(self, urls, fetcher)\u001b[0m\n\u001b[1;32m     37\u001b[0m \u001b[39masync\u001b[39;00m \u001b[39mdef\u001b[39;00m \u001b[39m_execute\u001b[39m(\u001b[39mself\u001b[39m, urls, fetcher: HttpRequestFetcher):\n\u001b[1;32m     38\u001b[0m \u001b[39m    \u001b[39m\u001b[39m\"\"\"Use asyncio.run() to execute\"\"\"\u001b[39;00m\n\u001b[0;32m---> 39\u001b[0m     \u001b[39masync\u001b[39;00m \u001b[39mwith\u001b[39;00m fetcher: \u001b[39m# context manager, init aiohttp session\u001b[39;00m\n\u001b[1;32m     40\u001b[0m         tasks \u001b[39m=\u001b[39m [fetcher\u001b[39m.\u001b[39mfetch(url, ref\u001b[39m=\u001b[39mtime\u001b[39m.\u001b[39mtime()) \u001b[39mfor\u001b[39;00m url \u001b[39min\u001b[39;00m urls] \u001b[39m# create tasks\u001b[39;00m\n\u001b[1;32m     41\u001b[0m         \u001b[39mreturn\u001b[39;00m \u001b[39mawait\u001b[39;00m asyncio\u001b[39m.\u001b[39mgather(\u001b[39m*\u001b[39mtasks)\n",
      "\u001b[0;31mAttributeError\u001b[0m: __aenter__"
     ]
    }
   ],
   "source": [
    "results = executor.execute(fetcher, urls)"
   ]
  }
 ],
 "metadata": {
  "kernelspec": {
   "display_name": "venv",
   "language": "python",
   "name": "python3"
  },
  "language_info": {
   "codemirror_mode": {
    "name": "ipython",
    "version": 3
   },
   "file_extension": ".py",
   "mimetype": "text/x-python",
   "name": "python",
   "nbconvert_exporter": "python",
   "pygments_lexer": "ipython3",
   "version": "3.10.0"
  },
  "orig_nbformat": 4
 },
 "nbformat": 4,
 "nbformat_minor": 2
}
